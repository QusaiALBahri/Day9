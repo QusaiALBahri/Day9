{
 "cells": [
  {
   "cell_type": "markdown",
   "metadata": {},
   "source": [
    "# 📊 Day 9: Data Analysis & Visualization with Pandas & Matplotlib  \n",
    "## *Student Workbook — No Solutions Provided*\n",
    "\n",
    "> **Instructor Note**: This notebook is for students. All code cells are empty or contain only starter comments. Explanations guide them — but they must write the code."
   ]
  },
  {
   "cell_type": "markdown",
   "metadata": {},
   "source": [
    "## ⏱️ Hour 0 — Syntax & Setup (15 min)\n",
    "\n",
    "### 📝 Why This Matters\n",
    "\n",
    "> In FAANG, you’ll rarely start from scratch. You’ll inherit messy data, broken scripts, and vague client requests.  \n",
    "> Today, you’ll learn to:  \n",
    "> - **Clean** like a data engineer  \n",
    "> - **Visualize** like a product analyst  \n",
    "> - **Fix** like a senior dev  \n",
    "> - **Explain** like a tech lead\n",
    "\n",
    "> **Toolchain**: `pandas` (data manipulation), `matplotlib` (visualization), `venv` (isolation), `git` (version control)."
   ]
  },
  {
   "cell_type": "code",
   "execution_count": null,
   "metadata": {},
   "outputs": [],
   "source": [
    "%%bash\n",
    "# Create project folder + venv\n",
    "# YOUR CODE HERE: mkdir, venv, activate, install pandas matplotlib seaborn jupyter\n",
    "\n",
    "# Save dependencies\n",
    "# YOUR CODE HERE: pip freeze > requirements.txt\n",
    "\n",
    "# Create .gitignore\n",
    "# YOUR CODE HERE: echo ... > .gitignore\n",
    "\n",
    "echo \"✅ Environment ready. Activate with: source venv/bin/activate\""
   ]
  },
  {
   "cell_type": "code",
   "execution_count": null,
   "metadata": {},
   "outputs": [],
   "source": [
    "# Core imports — import pandas, matplotlib.pyplot, seaborn\n",
    "# YOUR CODE HERE\n",
    "\n",
    "# Check versions (FAANG standard: pin versions in requirements.txt)\n",
    "# YOUR CODE HERE: print pandas version, matplotlib version\n",
    "\n",
    "# Set style (professional defaults)\n",
    "# YOUR CODE HERE: set matplotlib style to 'seaborn-v0_8-whitegrid'\n",
    "# YOUR CODE HERE: set seaborn palette to \"colorblind\"\n",
    "\n",
    "print(\"✅ Libraries imported. Ready to analyze.\")"
   ]
  },
  {
   "cell_type": "markdown",
   "metadata": {},
   "source": [
    "## 📚 Part 1: Data Concepts & Process (20 min)\n",
    "\n",
    "### 📝 The Data Lifecycle (FAANG Workflow)\n",
    "\n",
    "> **1. Ingest** → Load raw data (CSV, API, DB)  \n",
    "> **2. Clean** → Fix duplicates, NaNs, typos, outliers  \n",
    "> **3. Transform** → Group, filter, calculate new columns  \n",
    "> **4. Visualize** → Charts that tell a story (not just pretty)  \n",
    "> **5. Interpret** → \"What does this mean for the business?\"  \n",
    "> **6. Ship** → Save, commit, document, present\n",
    "\n",
    "> ⚠️ **FAANG Tip**: Never skip cleaning. Dirty data → wrong decisions → fired engineers."
   ]
  },
  {
   "cell_type": "markdown",
   "metadata": {},
   "source": [
    "### 📝 Matplotlib Core Concepts\n",
    "\n",
    "> - **`pyplot`**: MATLAB-style interface. Use `import matplotlib.pyplot as plt`.  \n",
    "> - **Figure & Axes**: A `Figure` is the window. `Axes` are the plot area.  \n",
    "> - **Plot Types**:  \n",
    ">   - `plt.plot()` → Line (trends)  \n",
    ">   - `plt.bar()` → Bars (comparisons)  \n",
    ">   - `plt.scatter()` → Scatter (relationships)  \n",
    ">   - `plt.hist()` → Histograms (distributions)  \n",
    ">   - `plt.pie()` → Pie (parts of whole)  \n",
    "> - **Styling**: `marker`, `linestyle`, `color`, `label`, `title`, `grid`, `subplot`.\n",
    "\n",
    "> 🎯 **Golden Rule**: Every chart must answer: *\"So what?\"*"
   ]
  },
  {
   "cell_type": "markdown",
   "metadata": {},
   "source": [
    "## 🛠️ Part 2: Build Tools — Clean & Visualize (45 min)\n",
    "\n",
    "### 📝 The Dataset\n",
    "\n",
    "> We’ll use `sales_messy.csv` — a real-world mess:  \n",
    "> - Duplicate rows  \n",
    "> - Missing values (NaN)  \n",
    "> - Inconsistent names (\"iPhone \" vs \"iPhone\")  \n",
    "> - Empty rows  \n",
    "> - Misleading column names\n",
    "\n",
    "> Your job: Turn this into `sales_clean.csv` — ready for the CFO."
   ]
  },
  {
   "cell_type": "code",
   "execution_count": null,
   "metadata": {},
   "outputs": [],
   "source": [
    "%%writefile sales_messy.csv\n",
    "Month,revenue($),Product,Region\n",
    "Jan,1000,iPhone ,North\n",
    "Feb,1500,iPhone,North\n",
    "Feb,1500,iPhone,North\n",
    "Mar, ,iPad,South\n",
    "Apr,2000,MacBook ,East\n",
    "May,2500,MacBook,East\n",
    "Jun,3000, ,West\n",
    "Jul,3500,iPhone,North\n",
    "Aug, ,iPad,South\n",
    "Sep,4500,MacBook,East\n",
    "Oct,5000,iPhone,North\n",
    "Nov,5500,iPad,South\n",
    "Dec,6000,MacBook,East\n",
    ",,,\n",
    "Jan,1000,iPhone ,North"
   ]
  },
  {
   "cell_type": "code",
   "execution_count": null,
   "metadata": {},
   "outputs": [],
   "source": [
    "# Load messy data\n",
    "# YOUR CODE HERE: use pd.read_csv()\n",
    "\n",
    "print(\"🔴 RAW DATA — 5 Rows:\")\n",
    "# YOUR CODE HERE: print first 5 rows\n",
    "\n",
    "print(\"\\n🔴 RAW DATA — Info:\")\n",
    "# YOUR CODE HERE: print df.info()\n",
    "\n",
    "print(\"\\n🔴 RAW DATA — Describe (only numeric):\")\n",
    "# YOUR CODE HERE: print df.describe()"
   ]
  },
  {
   "cell_type": "code",
   "execution_count": null,
   "metadata": {},
   "outputs": [],
   "source": [
    "# 1. Drop duplicates\n",
    "# YOUR CODE HERE\n",
    "\n",
    "# 2. Rename columns: rename \"revenue($)\" to \"Revenue\"\n",
    "# YOUR CODE HERE\n",
    "\n",
    "# 🆕 2.5: Convert Revenue to numeric (coerce errors to NaN)\n",
    "# HINT: use pd.to_numeric(..., errors='coerce')\n",
    "# YOUR CODE HERE\n",
    "\n",
    "# 3. Fill missing Revenue (with mean)\n",
    "# YOUR CODE HERE\n",
    "\n",
    "# 4. Strip whitespace from Product\n",
    "# YOUR CODE HERE\n",
    "\n",
    "# 5. Drop rows where ALL columns are NaN\n",
    "# YOUR CODE HERE\n",
    "\n",
    "# 6. Ensure Product has no empty strings\n",
    "# YOUR CODE HERE\n",
    "\n",
    "# Save cleaned data\n",
    "# YOUR CODE HERE: to_csv(\"sales_clean.csv\", index=False)\n",
    "\n",
    "print(\"✅ CLEANED DATA:\")\n",
    "# YOUR CODE HERE: print df_clean\n",
    "\n",
    "print(f\"\\n✅ Rows reduced from {len(df_messy)} to {len(df_clean)}\")"
   ]
  },
  {
   "cell_type": "markdown",
   "metadata": {},
   "source": [
    "## 🐞 Part 3: Fix Tickets — Visualization Deep Dive (45 min)\n",
    "\n",
    "### 📝 Ticket Philosophy\n",
    "\n",
    "> In FAANG, you’ll get tickets like these. Your fix must:  \n",
    "> - Solve the technical issue  \n",
    "> - Explain the business impact  \n",
    "> - Not break anything else  \n",
    "> - Be documented in code + commit"
   ]
  },
  {
   "cell_type": "markdown",
   "metadata": {},
   "source": [
    "### 🎟️ Ticket 901: Fix Misleading Y-Axis (Line Plot + Labels + Grid)\n",
    "\n",
    "#### 📝 Client Note\n",
    "\n",
    "> \"The chart makes growth look flat because Y-axis starts at $1000. Fix it — our investors think we’re failing!\""
   ]
  },
  {
   "cell_type": "code",
   "execution_count": null,
   "metadata": {},
   "outputs": [],
   "source": [
    "# Load cleaned data\n",
    "# YOUR CODE HERE\n",
    "\n",
    "# BROKEN: Misleading axis\n",
    "plt.figure(figsize=(10, 4))\n",
    "plt.subplot(1, 2, 1)\n",
    "# YOUR CODE HERE: plot line with red markers\n",
    "plt.title(\"❌ BROKEN: Hides Growth\")\n",
    "plt.grid(True)\n",
    "\n",
    "# FIXED: Honest axis\n",
    "plt.subplot(1, 2, 2)\n",
    "# YOUR CODE HERE: plot line with green markers, add ylabel, xlabel\n",
    "plt.title(\"✅ FIXED: True Growth\")\n",
    "# YOUR CODE HERE: set ylim to start at 0\n",
    "plt.tight_layout()\n",
    "plt.show()\n",
    "\n",
    "print(\"💡 Business Impact: [YOUR ANSWER: How did this fix affect the business?]\")"
   ]
  },
  {
   "cell_type": "markdown",
   "metadata": {},
   "source": [
    "### 🎟️ Ticket 902: Add Product Comparison (Bar Chart + Subplot)\n",
    "\n",
    "#### 📝 Client Note\n",
    "\n",
    "> \"We need to know which product drives revenue. Show me a bar chart — and put it next to the line chart.\""
   ]
  },
  {
   "cell_type": "code",
   "execution_count": null,
   "metadata": {},
   "outputs": [],
   "source": [
    "# Group by Product\n",
    "# YOUR CODE HERE: group by \"Product\", sum \"Revenue\"\n",
    "\n",
    "# Create subplots\n",
    "# YOUR CODE HERE: plt.subplots(2, 1, figsize=(10, 8))\n",
    "\n",
    "# Line chart (top)\n",
    "# YOUR CODE HERE: plot line with markers and linestyle\n",
    "\n",
    "# Bar chart (bottom)\n",
    "# YOUR CODE HERE: bar chart with colors\n",
    "\n",
    "plt.tight_layout()\n",
    "plt.show()\n",
    "\n",
    "print(\"💡 Business Impact: [YOUR ANSWER: What decision did this enable?]\")"
   ]
  },
  {
   "cell_type": "markdown",
   "metadata": {},
   "source": [
    "### 🎟️ Ticket 903: Show Revenue Distribution (Histogram + Scatter)\n",
    "\n",
    "#### 📝 Client Note\n",
    "\n",
    "> \"Is revenue predictable? Or are there wild outliers? Plot a histogram and scatter vs. month number.\""
   ]
  },
  {
   "cell_type": "code",
   "execution_count": null,
   "metadata": {},
   "outputs": [],
   "source": [
    "# Histogram\n",
    "plt.figure(figsize=(12, 4))\n",
    "\n",
    "plt.subplot(1, 2, 1)\n",
    "# YOUR CODE HERE: histogram with bins=5, edgecolor, color\n",
    "\n",
    "plt.subplot(1, 2, 2)\n",
    "# YOUR CODE HERE: scatter plot (x=month number, y=Revenue)\n",
    "\n",
    "plt.tight_layout()\n",
    "plt.show()\n",
    "\n",
    "print(\"💡 Business Impact: [YOUR ANSWER: What did this reveal about risk?]\")"
   ]
  },
  {
   "cell_type": "markdown",
   "metadata": {},
   "source": [
    "### 🎟️ Ticket 904: Revenue Share (Pie Chart + Styling)\n",
    "\n",
    "#### 📝 Client Note\n",
    "\n",
    "> \"What % of revenue comes from each product? Make a pie chart — and make it look boardroom-ready.\""
   ]
  },
  {
   "cell_type": "code",
   "execution_count": null,
   "metadata": {},
   "outputs": [],
   "source": [
    "# Pie chart\n",
    "plt.figure(figsize=(8, 8))\n",
    "# YOUR CODE HERE: pie chart with autopct, startangle, colors, explode, shadow\n",
    "plt.title(\"Revenue Share by Product\", fontsize=16, fontweight='bold')\n",
    "plt.axis('equal')  # Perfect circle\n",
    "plt.show()\n",
    "\n",
    "print(\"💡 Business Impact: [YOUR ANSWER: What strategy did this support?]\")"
   ]
  },
  {
   "cell_type": "markdown",
   "metadata": {},
   "source": [
    "## 📈 Part 4: Business Impact & Extend (15 min)\n",
    "\n",
    "### 📝 FAANG-Style Retrospective\n",
    "\n",
    "> For each ticket, write:  \n",
    "> **Technical Fix**: What code changed?  \n",
    "> **Business Impact**: How did this affect revenue/users/decisions?  \n",
    "> **Prevention**: How to avoid this in future? (e.g., data validation, unit tests)\n",
    "\n",
    "> Example:  \n",
    "> - **Ticket 901**: Set `plt.ylim(0)` → Showed true growth → Prevented investor pullout.  \n",
    "> - **Prevention**: Add data validation + automated chart audits."
   ]
  },
  {
   "cell_type": "markdown",
   "metadata": {},
   "source": [
    "### 🚀 Extend: What’s Next?\n",
    "\n",
    "> - Add **unit tests** for cleaning functions (pytest)  \n",
    "> - Build **interactive dashboards** (Plotly/Dash)  \n",
    "> - **Automate** with GitHub Actions (run tests + generate charts on push)  \n",
    "> - **Deploy** as web app (Flask + Heroku)"
   ]
  },
  {
   "cell_type": "markdown",
   "metadata": {},
   "source": [
    "## ✅ Deliverables Checklist\n",
    "\n",
    "- [ ] `sales_clean.csv` generated  \n",
    "- [ ] 4 charts saved as PNG (line, bar, histogram, pie)  \n",
    "- [ ] GitHub repo with branches: `v1-messy`, `v2-cleaned`, `v3-visualized`  \n",
    "- [ ] Client text proof saved  \n",
    "- [ ] Business impact notes for all 4 tickets  \n",
    "- [ ] LinkedIn post drafted"
   ]
  },
  {
   "cell_type": "markdown",
   "metadata": {},
   "source": [
    "## 🎓 You Are Now FAANG-Ready\n",
    "\n",
    "> You didn’t just \"learn matplotlib.\"  \n",
    "> You **solved business problems with data** — cleaned it, visualized it, fixed it, explained it.  \n",
    "> This is what FAANG hires for.  \n",
    "> Go update your LinkedIn:  \n",
    "> *\"Mastered Pandas + Matplotlib — turned messy data into boardroom-ready insights. #DataScience #Python #FAANG\"*"
   ]
  }
 ],
 "metadata": {
  "kernelspec": {
   "display_name": "Python 3",
   "language": "python",
   "name": "python3"
  },
  "language_info": {
   "codemirror_mode": {
    "name": "ipython",
    "version": 3
   },
   "file_extension": ".py",
   "mimetype": "text/x-python",
   "name": "python",
   "nbconvert_exporter": "python",
   "pygments_lexer": "ipython3",
   "version": "3.11.0"
  }
 },
 "nbformat": 4,
 "nbformat_minor": 4
}