{
 "cells": [
  {
   "cell_type": "markdown",
   "id": "c303e4d9",
   "metadata": {},
   "source": [
    "# Day 9 — Data Analysis & Visualization\n",
    "**Student Version** • 2025-09-17 20:26\n",
    "\n",
    "> Fill in the TODO cells. Keep your code clean and commented."
   ]
  },
  {
   "cell_type": "markdown",
   "id": "1ac8718c",
   "metadata": {},
   "source": [
    "### Objectives\n",
    "- Clean the messy CSV via **Tickets C901–C905**\n",
    "- Perform manipulations (filter, sort, groupby, new columns, stats, merge)\n",
    "- Create **line, bar, pie, scatter, histogram** (+ trendline)\n",
    "- Run verification and prepare Git proof"
   ]
  },
  {
   "cell_type": "markdown",
   "id": "88a4e365",
   "metadata": {},
   "source": [
    "## 0) Setup — IMPORTS"
   ]
  },
  {
   "cell_type": "code",
   "execution_count": null,
   "id": "f2be7306",
   "metadata": {},
   "outputs": [],
   "source": [
    "# TODO: import pandas as pd, numpy as np, matplotlib.pyplot as plt, Path\n",
    "from pathlib import Path\n",
    "DATA = Path('/mnt/data/sales_messy.csv')\n",
    "print('CSV exists:', DATA.exists())"
   ]
  },
  {
   "cell_type": "markdown",
   "id": "8858f10f",
   "metadata": {},
   "source": [
    "## 1) Load the messy CSV"
   ]
  },
  {
   "cell_type": "code",
   "execution_count": null,
   "id": "a03570a3",
   "metadata": {},
   "outputs": [],
   "source": [
    "# TODO: read CSV into a DataFrame named `raw` and preview head()\n",
    "raw = None\n",
    "raw"
   ]
  },
  {
   "cell_type": "markdown",
   "id": "102168f0",
   "metadata": {},
   "source": [
    "## 2) Cleaning Phase — Tickets C901–C905\n",
    "**C901**: Trim whitespace in column names and string cells\n",
    "\n",
    "**C902**: Standardize categorical values (Region casing + mapping)\n",
    "\n",
    "**C903**: Fix data types (Date → datetime, numeric columns)\n",
    "\n",
    "**C904**: Handle missing values (e.g., UnitPrice via median per Product)\n",
    "\n",
    "**C905**: Drop duplicates"
   ]
  },
  {
   "cell_type": "code",
   "execution_count": null,
   "id": "8b595444",
   "metadata": {},
   "outputs": [],
   "source": [
    "# TODO C901: Normalize column names and strip string cells\n",
    "df = None  # replace with cleaned copy\n",
    "df"
   ]
  },
  {
   "cell_type": "code",
   "execution_count": null,
   "id": "c7aba4c7",
   "metadata": {},
   "outputs": [],
   "source": [
    "# TODO C902: Standardize categories (e.g., Region)\n",
    "pass"
   ]
  },
  {
   "cell_type": "code",
   "execution_count": null,
   "id": "3093e825",
   "metadata": {},
   "outputs": [],
   "source": [
    "# TODO C903: Fix data types and recompute Revenue\n",
    "pass"
   ]
  },
  {
   "cell_type": "code",
   "execution_count": null,
   "id": "58dde86b",
   "metadata": {},
   "outputs": [],
   "source": [
    "# TODO C904: Impute missing UnitPrice and recompute Revenue\n",
    "pass"
   ]
  },
  {
   "cell_type": "code",
   "execution_count": null,
   "id": "56b3bec9",
   "metadata": {},
   "outputs": [],
   "source": [
    "# TODO C905: Drop duplicates and report how many dropped\n",
    "pass"
   ]
  },
  {
   "cell_type": "markdown",
   "id": "39f3166c",
   "metadata": {},
   "source": [
    "## 3) Manipulation Tasks"
   ]
  },
  {
   "cell_type": "code",
   "execution_count": null,
   "id": "5ef9ccc2",
   "metadata": {},
   "outputs": [],
   "source": [
    "# TODO: Filter rows with Units Sold >= 50\n",
    "high_units = None\n",
    "high_units"
   ]
  },
  {
   "cell_type": "code",
   "execution_count": null,
   "id": "eb33fce7",
   "metadata": {},
   "outputs": [],
   "source": [
    "# TODO: Sort by Revenue desc and show top 10\n",
    "top_revenue = None\n",
    "top_revenue"
   ]
  },
  {
   "cell_type": "code",
   "execution_count": null,
   "id": "eeff53f2",
   "metadata": {},
   "outputs": [],
   "source": [
    "# TODO: Groupby Region & Product → sum Revenue\n",
    "rev_by_rp = None\n",
    "rev_by_rp"
   ]
  },
  {
   "cell_type": "code",
   "execution_count": null,
   "id": "b4588fda",
   "metadata": {},
   "outputs": [],
   "source": [
    "# TODO: Create Month column & aggregate monthly Units/Revenue\n",
    "monthly = None\n",
    "monthly"
   ]
  },
  {
   "cell_type": "code",
   "execution_count": null,
   "id": "d0b0bc26",
   "metadata": {},
   "outputs": [],
   "source": [
    "# TODO: Describe statistics for Units Sold, UnitPrice, Revenue\n",
    "stats = None\n",
    "stats"
   ]
  },
  {
   "cell_type": "code",
   "execution_count": null,
   "id": "594c8e7b",
   "metadata": {},
   "outputs": [],
   "source": [
    "# TODO: Merge with a synthetic cost table to compute Profit\n",
    "merged = None\n",
    "merged"
   ]
  },
  {
   "cell_type": "markdown",
   "id": "9dacc6c2",
   "metadata": {},
   "source": [
    "## 4) Visualization Phase\n",
    "Create the following charts using **matplotlib** only (no seaborn) and **one chart per cell**:\n",
    "- Line: Monthly revenue\n",
    "- Bar: Revenue by Region\n",
    "- Pie: Revenue share by Product\n",
    "- Scatter: Units vs Revenue + regression trendline\n",
    "- Histogram: Revenue distribution"
   ]
  },
  {
   "cell_type": "code",
   "execution_count": null,
   "id": "41e477f3",
   "metadata": {},
   "outputs": [],
   "source": [
    "# TODO: Line chart — Monthly Revenue\n",
    "import matplotlib.pyplot as plt\n",
    "plt.figure()\n",
    "# plt.plot(...)\n",
    "plt.title('Monthly Revenue (Line)')\n",
    "plt.show()"
   ]
  },
  {
   "cell_type": "code",
   "execution_count": null,
   "id": "a75db09c",
   "metadata": {},
   "outputs": [],
   "source": [
    "# TODO: Bar chart — Revenue by Region\n",
    "plt.figure()\n",
    "# plt.bar(...)\n",
    "plt.title('Revenue by Region (Bar)')\n",
    "plt.show()"
   ]
  },
  {
   "cell_type": "code",
   "execution_count": null,
   "id": "02649069",
   "metadata": {},
   "outputs": [],
   "source": [
    "# TODO: Pie chart — Revenue share by Product\n",
    "plt.figure()\n",
    "# plt.pie(..., labels=..., autopct='%1.1f%%')\n",
    "plt.title('Revenue Share by Product (Pie)')\n",
    "plt.show()"
   ]
  },
  {
   "cell_type": "code",
   "execution_count": null,
   "id": "ae40dd85",
   "metadata": {},
   "outputs": [],
   "source": [
    "# TODO: Scatter + trendline — Units vs Revenue\n",
    "plt.figure()\n",
    "# plt.scatter(...)\n",
    "# Fit trendline with numpy.polyfit\n",
    "plt.title('Units vs Revenue (Scatter + Trendline)')\n",
    "plt.show()"
   ]
  },
  {
   "cell_type": "code",
   "execution_count": null,
   "id": "bc796447",
   "metadata": {},
   "outputs": [],
   "source": [
    "# TODO: Histogram — Revenue distribution\n",
    "plt.figure()\n",
    "# plt.hist(..., bins=20)\n",
    "plt.title('Revenue Distribution (Histogram)')\n",
    "plt.show()"
   ]
  },
  {
   "cell_type": "markdown",
   "id": "137fba54",
   "metadata": {},
   "source": [
    "## 5) Verification & Git Proof"
   ]
  },
  {
   "cell_type": "code",
   "execution_count": null,
   "id": "c9a902b5",
   "metadata": {},
   "outputs": [],
   "source": [
    "print('''\\\n",
    "git init\n",
    "git add Day9_Data_Analysis_and_Visualization_Student.ipynb sales_messy.csv\n",
    "git commit -m \"Day 9 (student): cleaning, manipulation, viz scaffolds\"\n",
    "git branch -M main\n",
    "git remote add origin <YOUR_REPO_URL>\n",
    "git push -u origin main\n",
    "''')"
   ]
  }
 ],
 "metadata": {},
 "nbformat": 4,
 "nbformat_minor": 5
}
